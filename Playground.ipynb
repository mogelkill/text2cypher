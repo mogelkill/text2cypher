{
 "cells": [
  {
   "cell_type": "code",
   "execution_count": 1,
   "metadata": {},
   "outputs": [],
   "source": [
    "from src.llm_query_generator.chat_history import ChatHistory\n",
    "from src.llm_query_generator.db import Neo4jAdapter\n",
    "from src.llm_query_generator.llm import OpenAILLM\n",
    "import os\n",
    "from openai import OpenAI\n",
    "import json\n",
    "from pathlib import Path\n",
    "from tqdm import tqdm"
   ]
  },
  {
   "cell_type": "code",
   "execution_count": 2,
   "metadata": {},
   "outputs": [],
   "source": [
    "URI = \"bolt://localhost:7687\"\n",
    "USER = \"\"\n",
    "PASSWORD = \"\""
   ]
  },
  {
   "cell_type": "code",
   "execution_count": 3,
   "metadata": {},
   "outputs": [],
   "source": [
    "neo4j = Neo4jAdapter(URI, USER, PASSWORD).connect()\n",
    "llm = OpenAILLM(api_key=os.environ.get(\"OPENAI_KEY\"),model=\"gpt-4-1106-preview\",temperature=0.0)"
   ]
  },
  {
   "cell_type": "code",
   "execution_count": 43,
   "metadata": {},
   "outputs": [],
   "source": [
    "scripts= Path(\"./scripts/CypherScript_XAI4Wind.txt\").read_text(encoding=\"utf-8\").split(\";\\n\")"
   ]
  },
  {
   "cell_type": "code",
   "execution_count": 21,
   "metadata": {},
   "outputs": [
    {
     "name": "stderr",
     "output_type": "stream",
     "text": [
      "100%|██████████| 1270/1270 [00:18<00:00, 70.14it/s] "
     ]
    },
    {
     "name": "stdout",
     "output_type": "stream",
     "text": [
      "Error executing DROP CONSTRAINT FOR (node:`UNIQUE IMPORT LABEL`) REQUIRE (node.`UNIQUE IMPORT ID`) IS UNIQUE\n",
      "{code: Neo.ClientError.Statement.SyntaxError} {message: Invalid input '(': expected \"IF\" or <EOF> (line 1, column 21 (offset: 20))\n",
      "\"DROP CONSTRAINT FOR (node:`UNIQUE IMPORT LABEL`) REQUIRE (node.`UNIQUE IMPORT ID`) IS UNIQUE\"\n",
      "                     ^}\n"
     ]
    },
    {
     "name": "stderr",
     "output_type": "stream",
     "text": [
      "\n"
     ]
    }
   ],
   "source": [
    "for command in tqdm(scripts):\n",
    "    script = command.strip()\n",
    "    if script:\n",
    "        try:\n",
    "            neo4j.execute(script)\n",
    "        except Exception as e:\n",
    "            print(f\"Error executing {script}\")\n",
    "            print(e)\n"
   ]
  },
  {
   "cell_type": "code",
   "execution_count": 4,
   "metadata": {},
   "outputs": [
    {
     "data": {
      "text/plain": [
       "\"\\n            Node properties are the following:\\n            [{'properties': [{'property': 'number', 'type': 'INTEGER'}, {'property': 'alarm_no', 'type': 'STRING'}, {'property': 'description', 'type': 'STRING'}], 'labels': 'Alarm'}, {'properties': [{'property': 'name', 'type': 'STRING'}], 'labels': 'ESC'}, {'properties': [{'property': 'fno', 'type': 'INTEGER'}, {'property': 'name', 'type': 'STRING'}], 'labels': 'YawBrake'}, {'properties': [{'property': 'name', 'type': 'STRING'}, {'property': 'contents', 'type': 'STRING'}], 'labels': 'Predictive'}, {'properties': [{'property': 'activities', 'type': 'LIST'}, {'property': 'number', 'type': 'INTEGER'}], 'labels': 'CorrAct'}, {'properties': [{'property': 'fno', 'type': 'INTEGER'}, {'property': 'name', 'type': 'STRING'}], 'labels': 'Test'}, {'properties': [{'property': 'number', 'type': 'INTEGER'}, {'property': 'activities', 'type': 'LIST'}, {'property': 'image_url', 'type': 'LIST'}, {'property': 'details', 'type': 'STRING'}], 'labels': 'PredAct'}, {'properties': [{'property': 'name', 'type': 'STRING'}], 'labels': 'SCADA'}, {'properties': [{'property': 'details', 'type': 'STRING'}, {'property': 'number', 'type': 'INTEGER'}], 'labels': 'FaultEvent'}, {'properties': [{'property': 'name', 'type': 'STRING'}, {'property': 'fno', 'type': 'INTEGER'}], 'labels': 'PitchInterfaceAlarm'}, {'properties': [{'property': 'name', 'type': 'STRING'}], 'labels': 'FaultEvents'}, {'properties': [{'property': 'name', 'type': 'STRING'}, {'property': 'image_url', 'type': 'LIST'}, {'property': 'CorrectiveActivities', 'type': 'LIST'}], 'labels': 'Transformer'}, {'properties': [{'property': 'fno', 'type': 'INTEGER'}, {'property': 'name', 'type': 'STRING'}], 'labels': 'PCS'}, {'properties': [{'property': 'name', 'type': 'STRING'}], 'labels': 'PowerCabinet'}, {'properties': [{'property': 'name', 'type': 'STRING'}, {'property': 'fno', 'type': 'INTEGER'}], 'labels': 'PitchEFCMon'}, {'properties': [{'property': 'name', 'type': 'STRING'}, {'property': 'contents', 'type': 'STRING'}], 'labels': 'MaintenanceAction'}, {'properties': [{'property': 'number', 'type': 'INTEGER'}, {'property': 'act', 'type': 'INTEGER'}, {'property': 'initial_periodicity', 'type': 'STRING'}, {'property': 'gen_periodicity', 'type': 'STRING'}, {'property': 'details', 'type': 'STRING'}, {'property': 'activities', 'type': 'LIST'}, {'property': 'image_url', 'type': 'LIST'}], 'labels': 'PrevAct'}, {'properties': [{'property': 'fno', 'type': 'INTEGER'}, {'property': 'name', 'type': 'STRING'}], 'labels': 'IPR'}, {'properties': [{'property': 'name', 'type': 'STRING'}, {'property': 'image_url', 'type': 'LIST'}, {'property': 'CorrectiveActivities', 'type': 'LIST'}, {'property': 'fno', 'type': 'INTEGER'}], 'labels': 'Gearbox'}, {'properties': [{'property': 'name', 'type': 'STRING'}], 'labels': 'Environment'}, {'properties': [{'property': 'fno', 'type': 'INTEGER'}, {'property': 'name', 'type': 'STRING'}], 'labels': 'Pitch'}, {'properties': [{'property': 'name', 'type': 'STRING'}], 'labels': 'PitchSystem'}, {'properties': [{'property': 'fno', 'type': 'INTEGER'}, {'property': 'name', 'type': 'STRING'}], 'labels': 'WindAlr'}, {'properties': [{'property': 'name', 'type': 'STRING'}, {'property': 'contents', 'type': 'STRING'}], 'labels': 'Corrective'}, {'properties': [{'property': 'name', 'type': 'STRING'}], 'labels': 'ParkBrake'}, {'properties': [{'property': 'name', 'type': 'STRING'}], 'labels': 'MainShaft'}, {'properties': [{'property': 'name', 'type': 'STRING'}, {'property': 'PreventiveActivities', 'type': 'LIST'}, {'property': 'PredictiveActivities', 'type': 'LIST'}], 'labels': 'Converter'}, {'properties': [{'property': 'fno', 'type': 'INTEGER'}, {'property': 'name', 'type': 'STRING'}], 'labels': 'HydraulicSys'}, {'properties': [{'property': 'image_url', 'type': 'LIST'}, {'property': 'CorrectiveActivities', 'type': 'LIST'}, {'property': 'name', 'type': 'STRING'}], 'labels': 'FCS'}, {'properties': [{'property': 'fno', 'type': 'INTEGER'}, {'property': 'name', 'type': 'STRING'}], 'labels': 'NoFault'}, {'properties': [{'property': 'name', 'type': 'STRING'}, {'property': 'unit', 'type': 'STRING'}, {'property': 'feature_no', 'type': 'INTEGER'}, {'property': 'description', 'type': 'STRING'}], 'labels': 'Feature'}, {'properties': [{'property': 'name', 'type': 'STRING'}, {'property': 'location', 'type': 'STRING'}, {'property': 'rated_power', 'type': 'STRING'}, {'property': 'type', 'type': 'STRING'}], 'labels': 'System'}, {'properties': [{'property': 'name', 'type': 'STRING'}, {'property': 'image_url', 'type': 'LIST'}, {'property': 'CorrectiveActivities', 'type': 'LIST'}], 'labels': 'YawSystem'}, {'properties': [{'property': 'name', 'type': 'STRING'}, {'property': 'image_url', 'type': 'LIST'}, {'property': 'CorrectiveActivities', 'type': 'LIST'}], 'labels': 'HydraulicSystem'}, {'properties': [{'property': 'PreventiveActivities', 'type': 'LIST'}, {'property': 'name', 'type': 'STRING'}], 'labels': 'DriveTrain'}, {'properties': [{'property': 'name', 'type': 'STRING'}, {'property': 'contents', 'type': 'STRING'}], 'labels': 'FunctionalGroup'}, {'properties': [{'property': 'name', 'type': 'STRING'}], 'labels': 'Generator'}, {'properties': [{'property': 'Sampling', 'type': 'LIST'}, {'property': 'Retightening', 'type': 'LIST'}, {'property': 'PlasticsOrDegradedGums', 'type': 'LIST'}, {'property': 'Corrosion', 'type': 'LIST'}, {'property': 'VisualInspections', 'type': 'LIST'}, {'property': 'LostScuffsOrGaps', 'type': 'LIST'}, {'property': 'FatLiqours', 'type': 'LIST'}, {'property': 'OilChanges', 'type': 'LIST'}, {'property': 'FunctionalChecks', 'type': 'LIST'}, {'property': 'SettingPressures', 'type': 'LIST'}, {'property': 'Filters', 'type': 'LIST'}, {'property': 'DriveTrainActivities', 'type': 'LIST'}, {'property': 'Cleaning', 'type': 'LIST'}, {'property': 'CheckWearSlackLineups', 'type': 'LIST'}, {'property': 'ImpParameters', 'type': 'LIST'}, {'property': 'contents', 'type': 'STRING'}, {'property': 'Lineups', 'type': 'LIST'}, {'property': 'name', 'type': 'STRING'}], 'labels': 'Preventive'}, {'properties': [{'property': 'name', 'type': 'STRING'}, {'property': 'fno', 'type': 'INTEGER'}], 'labels': 'PPD'}, {'properties': [{'property': 'fno', 'type': 'INTEGER'}, {'property': 'name', 'type': 'STRING'}], 'labels': 'Yaw'}]\\n            Relationship properties are the following:\\n            []\\n            The relationships are the following:\\n            ['(:Alarm)-[:AFFECTS]->(:PCS)', '(:Alarm)-[:AFFECTS]->(:PitchSystem)', '(:Alarm)-[:AFFECTS]->(:Pitch)', '(:Alarm)-[:AFFECTS]->(:PitchEFCMon)', '(:Alarm)-[:AFFECTS]->(:PitchInterfaceAlarm)', '(:Alarm)-[:AFFECTS]->(:Yaw)', '(:Alarm)-[:AFFECTS]->(:YawSystem)', '(:Alarm)-[:AFFECTS]->(:YawBrake)', '(:Alarm)-[:AFFECTS]->(:HydraulicSystem)', '(:Alarm)-[:AFFECTS]->(:HydraulicSys)', '(:Alarm)-[:AFFECTS]->(:IPR)', '(:Alarm)-[:AFFECTS]->(:WindAlr)', '(:Alarm)-[:AFFECTS]->(:System)', '(:Alarm)-[:AFFECTS]->(:NoFault)', '(:Alarm)-[:AFFECTS]->(:Test)', '(:YawBrake)-[:RELATESTO]->(:YawSystem)', '(:Predictive)-[:ACTION]->(:PredAct)', '(:CorrAct)-[:FOR]->(:FaultEvent)', '(:CorrAct)-[:FOR]->(:Transformer)', '(:Test)-[:RELATESTO]->(:ESC)', '(:PredAct)-[:FOR]->(:Converter)', '(:SCADA)-[:HAS]->(:FunctionalGroup)', '(:SCADA)-[:CONTAINS]->(:SCADA)', '(:SCADA)-[:CONTAINS]->(:Feature)', '(:SCADA)-[:IS]->(:Feature)', '(:FaultEvent)-[:AFFECTS]->(:Converter)', '(:FaultEvent)-[:AFFECTS]->(:Transformer)', '(:FaultEvent)-[:AFFECTS]->(:Generator)', '(:FaultEvent)-[:AFFECTS]->(:Gearbox)', '(:FaultEvent)-[:AFFECTS]->(:YawSystem)', '(:FaultEvent)-[:AFFECTS]->(:Pitch)', '(:FaultEvent)-[:AFFECTS]->(:ESC)', '(:FaultEvent)-[:AFFECTS]->(:HydraulicSystem)', '(:FaultEvent)-[:RELATESTO]->(:Alarm)', '(:PitchInterfaceAlarm)-[:RELATESTO]->(:PitchSystem)', '(:FaultEvents)-[:TYPE]->(:FaultEvent)', '(:PCS)-[:RELATESTO]->(:PowerCabinet)', '(:PowerCabinet)-[:CONSISTSOF]->(:Transformer)', '(:PitchEFCMon)-[:RELATESTO]->(:PitchSystem)', '(:MaintenanceAction)-[:TYPE]->(:Preventive)', '(:MaintenanceAction)-[:TYPE]->(:Corrective)', '(:MaintenanceAction)-[:TYPE]->(:Predictive)', '(:PrevAct)-[:FOR]->(:System)', '(:PrevAct)-[:FOR]->(:DriveTrain)', '(:PrevAct)-[:FOR]->(:YawSystem)', '(:PrevAct)-[:FOR]->(:ParkBrake)', '(:PrevAct)-[:FOR]->(:ESC)', '(:PrevAct)-[:FOR]->(:HydraulicSystem)', '(:PrevAct)-[:FOR]->(:FCS)', '(:PrevAct)-[:FOR]->(:Generator)', '(:PrevAct)-[:FOR]->(:MainShaft)', '(:PrevAct)-[:FOR]->(:PitchSystem)', '(:PrevAct)-[:FOR]->(:Converter)', '(:PrevAct)-[:FOR]->(:PowerCabinet)', '(:IPR)-[:RELATESTO]->(:ESC)', '(:Environment)-[:AFFECTS]->(:FaultEvent)', '(:Pitch)-[:RELATESTO]->(:PitchSystem)', '(:PitchSystem)-[:CONSISTSOF]->(:Pitch)', '(:PitchSystem)-[:CONSISTSOF]->(:PitchInterfaceAlarm)', '(:PitchSystem)-[:CONSISTSOF]->(:PitchEFCMon)', '(:WindAlr)-[:RELATESTO]->(:ESC)', '(:Corrective)-[:ACTION]->(:CorrAct)', '(:Feature)-[:IS]->(:Feature)', '(:Feature)-[:RELATESTO]->(:FaultEvent)', '(:Feature)-[:AFFECTS]->(:Transformer)', '(:System)-[:CONTAINS]->(:Converter)', '(:System)-[:CONTAINS]->(:ParkBrake)', '(:System)-[:CONTAINS]->(:ESC)', '(:System)-[:CONTAINS]->(:YawSystem)', '(:System)-[:CONTAINS]->(:FCS)', '(:System)-[:CONTAINS]->(:PitchSystem)', '(:System)-[:CONTAINS]->(:HydraulicSystem)', '(:System)-[:CONTAINS]->(:PowerCabinet)', '(:System)-[:CONTAINS]->(:Transformer)', '(:System)-[:CONTAINS]->(:DriveTrain)', '(:System)-[:CONTAINS]->(:Generator)', '(:DriveTrain)-[:CONSISTSOF]->(:Gearbox)', '(:DriveTrain)-[:CONSISTSOF]->(:MainShaft)', '(:DriveTrain)-[:CONSISTSOF]->(:Generator)', '(:FunctionalGroup)-[:TYPE]->(:IPR)', '(:FunctionalGroup)-[:TYPE]->(:NoFault)', '(:FunctionalGroup)-[:TYPE]->(:PCS)', '(:FunctionalGroup)-[:TYPE]->(:Pitch)', '(:FunctionalGroup)-[:TYPE]->(:Gearbox)', '(:FunctionalGroup)-[:TYPE]->(:PPD)', '(:FunctionalGroup)-[:TYPE]->(:PitchEFCMon)', '(:FunctionalGroup)-[:TYPE]->(:YawBrake)', '(:FunctionalGroup)-[:TYPE]->(:HydraulicSys)', '(:FunctionalGroup)-[:TYPE]->(:WindAlr)', '(:FunctionalGroup)-[:TYPE]->(:Test)', '(:FunctionalGroup)-[:TYPE]->(:PitchInterfaceAlarm)', '(:FunctionalGroup)-[:TYPE]->(:Yaw)', '(:Preventive)-[:ACTION]->(:PrevAct)', '(:PPD)-[:RELATESTO]->(:System)', '(:Yaw)-[:RELATESTO]->(:YawSystem)']\\n            \""
      ]
     },
     "execution_count": 4,
     "metadata": {},
     "output_type": "execute_result"
    }
   ],
   "source": [
    "neo4j.get_schema()"
   ]
  },
  {
   "cell_type": "code",
   "execution_count": 28,
   "metadata": {},
   "outputs": [
    {
     "name": "stdout",
     "output_type": "stream",
     "text": [
      "CREATE (n:`UNIQUE IMPORT LABEL`{`UNIQUE IMPORT ID`: row._id}, `number`: 16) SET n += row.properties SET n:Alarm;\n"
     ]
    }
   ],
   "source": [
    "import re\n",
    "\n",
    "def modify_cypher_command(command):\n",
    "    # Regular expression to find a label with a number at the end of the command\n",
    "    match = re.search(r'SET n:([A-Za-z]+)(\\d+);$', command)\n",
    "    if match:\n",
    "        # Extract the label and the number\n",
    "        label = match.group(1)\n",
    "        number = match.group(2)\n",
    "\n",
    "        # Modify the command to include the number as a property and update the label\n",
    "        new_command = re.sub(r'SET n:([A-Za-z]+\\d+);$', f'SET n:{label};', command)\n",
    "        new_command = re.sub(r'(\\{.*\\})', r'\\1, `number`: ' + number, new_command)\n",
    "        return new_command\n",
    "    else:\n",
    "        # Return the original command if no label with number is found\n",
    "        return command\n",
    "\n",
    "# Example usage\n",
    "command = \"CREATE (n:`UNIQUE IMPORT LABEL`{`UNIQUE IMPORT ID`: row._id}) SET n += row.properties SET n:Alarm16;\"\n",
    "modified_command = modify_cypher_command(command)\n",
    "print(modified_command)\n"
   ]
  },
  {
   "cell_type": "code",
   "execution_count": 5,
   "metadata": {},
   "outputs": [
    {
     "data": {
      "text/plain": [
       "\"Task:Generate Cypher statement to query a graph database.\\nInstructions:\\nUse only the provided relationship types and properties in the schema.\\nDo not use any other relationship types or properties that are not provided.\\nSchema:\\n\\n            Node properties are the following:\\n            [{'properties': [{'property': 'title', 'type': 'STRING'}, {'property': 'tagline', 'type': 'STRING'}, {'property': 'released', 'type': 'INTEGER'}], 'labels': 'Movie'}, {'properties': [{'property': 'born', 'type': 'INTEGER'}, {'property': 'name', 'type': 'STRING'}], 'labels': 'Person'}]\\n            Relationship properties are the following:\\n            [{'type': 'ACTED_IN', 'properties': [{'property': 'roles', 'type': 'LIST'}]}, {'type': 'REVIEWED', 'properties': [{'property': 'summary', 'type': 'STRING'}, {'property': 'rating', 'type': 'INTEGER'}]}]\\n            The relationships are the following:\\n            ['(:Person)-[:ACTED_IN]->(:Movie)', '(:Person)-[:DIRECTED]->(:Movie)', '(:Person)-[:PRODUCED]->(:Movie)', '(:Person)-[:WROTE]->(:Movie)', '(:Person)-[:FOLLOWS]->(:Person)', '(:Person)-[:REVIEWED]->(:Movie)']\\n            \\nNote: Do not include any explanations or apologies in your responses.\\nDo not respond to any questions that might ask anything else than for you to construct a Cypher statement.\\nDo not include any text except the generated Cypher statement.\\n\\nThe question is:\\nIn how many movies did tom hanks play as a actor\""
      ]
     },
     "execution_count": 5,
     "metadata": {},
     "output_type": "execute_result"
    }
   ],
   "source": [
    "query = 'In how many movies did tom hanks play as a actor'\n",
    "prompt = neo4j.build_prompt(query)\n",
    "prompt"
   ]
  },
  {
   "cell_type": "code",
   "execution_count": 5,
   "metadata": {},
   "outputs": [],
   "source": [
    "import re\n",
    "\n",
    "pattern = r\"```.*?\\n(.*?)```\"\n",
    "\n",
    "def clean_generation(query:str)->str:\n",
    "    match = re.search(pattern, query, re.DOTALL)\n",
    "    if match:\n",
    "        code = match.group(1)\n",
    "        return code\n",
    "    return query"
   ]
  },
  {
   "cell_type": "code",
   "execution_count": 7,
   "metadata": {},
   "outputs": [
    {
     "data": {
      "text/plain": [
       "'MATCH (p:Person {name: \"Tom Hanks\"})-[:ACTED_IN]->(m:Movie)\\nRETURN COUNT(m) AS NumberOfMoviesTomHanksActedIn\\n'"
      ]
     },
     "execution_count": 7,
     "metadata": {},
     "output_type": "execute_result"
    }
   ],
   "source": [
    "cypher_query=clean_generation(llm.generate(prompt))\n",
    "cypher_query"
   ]
  },
  {
   "cell_type": "code",
   "execution_count": 4,
   "metadata": {},
   "outputs": [
    {
     "data": {
      "text/plain": [
       "[{'p': {'number': 47,\n",
       "   'details': 'Turbine does not couple. The stator contact input is not received after requesting\\nconnection.'}},\n",
       " {'p': {'number': 49,\n",
       "   'details': 'Circuit Breaker Not Ok. Any thermal fuse signal is deactivated for more than 5s.'}},\n",
       " {'p': {'number': 48,\n",
       "   'details': 'Transformer fan circuit breaker. The thermal fuse of the trafonsmer fan is deactivated.'}},\n",
       " {'p': {'number': 52,\n",
       "   'details': 'Analogue module failure. Error in analog card.'}},\n",
       " {'p': {'number': 51,\n",
       "   'details': 'Temperature measurement module failure. Error in Temperature card (RTD)'}},\n",
       " {'p': {'number': 50,\n",
       "   'details': 'PLC Module Failure. Peripheral Module Failure'}},\n",
       " {'p': {'number': 54, 'details': 'UPS failure'}},\n",
       " {'p': {'number': 53, 'details': 'Communication error'}}]"
      ]
     },
     "execution_count": 4,
     "metadata": {},
     "output_type": "execute_result"
    }
   ],
   "source": [
    "neo4j.execute('MATCH(n:FaultEvents)-[:TYPE]-(p)-[:AFFECTS]-(q{name:\"Transformer\"}) RETURN p')"
   ]
  },
  {
   "cell_type": "code",
   "execution_count": 6,
   "metadata": {},
   "outputs": [
    {
     "name": "stdout",
     "output_type": "stream",
     "text": [
      "Task:Generate Cypher statement to query a graph database.\n",
      "Instructions:\n",
      "Use only the provided relationship types and properties in the schema.\n",
      "Do not use any other relationship types or properties that are not provided.\n",
      "Schema:\n",
      "\n",
      "            Node properties are the following:\n",
      "            [{'properties': [{'property': 'number', 'type': 'INTEGER'}, {'property': 'alarm_no', 'type': 'STRING'}, {'property': 'description', 'type': 'STRING'}], 'labels': 'Alarm'}, {'properties': [{'property': 'name', 'type': 'STRING'}], 'labels': 'ESC'}, {'properties': [{'property': 'fno', 'type': 'INTEGER'}, {'property': 'name', 'type': 'STRING'}], 'labels': 'YawBrake'}, {'properties': [{'property': 'name', 'type': 'STRING'}, {'property': 'contents', 'type': 'STRING'}], 'labels': 'Predictive'}, {'properties': [{'property': 'activities', 'type': 'LIST'}, {'property': 'number', 'type': 'INTEGER'}], 'labels': 'CorrAct'}, {'properties': [{'property': 'fno', 'type': 'INTEGER'}, {'property': 'name', 'type': 'STRING'}], 'labels': 'Test'}, {'properties': [{'property': 'number', 'type': 'INTEGER'}, {'property': 'activities', 'type': 'LIST'}, {'property': 'image_url', 'type': 'LIST'}, {'property': 'details', 'type': 'STRING'}], 'labels': 'PredAct'}, {'properties': [{'property': 'name', 'type': 'STRING'}], 'labels': 'SCADA'}, {'properties': [{'property': 'details', 'type': 'STRING'}, {'property': 'number', 'type': 'INTEGER'}], 'labels': 'FaultEvent'}, {'properties': [{'property': 'name', 'type': 'STRING'}, {'property': 'fno', 'type': 'INTEGER'}], 'labels': 'PitchInterfaceAlarm'}, {'properties': [{'property': 'name', 'type': 'STRING'}], 'labels': 'FaultEvents'}, {'properties': [{'property': 'name', 'type': 'STRING'}, {'property': 'image_url', 'type': 'LIST'}, {'property': 'CorrectiveActivities', 'type': 'LIST'}], 'labels': 'Transformer'}, {'properties': [{'property': 'fno', 'type': 'INTEGER'}, {'property': 'name', 'type': 'STRING'}], 'labels': 'PCS'}, {'properties': [{'property': 'name', 'type': 'STRING'}], 'labels': 'PowerCabinet'}, {'properties': [{'property': 'name', 'type': 'STRING'}, {'property': 'fno', 'type': 'INTEGER'}], 'labels': 'PitchEFCMon'}, {'properties': [{'property': 'name', 'type': 'STRING'}, {'property': 'contents', 'type': 'STRING'}], 'labels': 'MaintenanceAction'}, {'properties': [{'property': 'number', 'type': 'INTEGER'}, {'property': 'act', 'type': 'INTEGER'}, {'property': 'initial_periodicity', 'type': 'STRING'}, {'property': 'gen_periodicity', 'type': 'STRING'}, {'property': 'details', 'type': 'STRING'}, {'property': 'activities', 'type': 'LIST'}, {'property': 'image_url', 'type': 'LIST'}], 'labels': 'PrevAct'}, {'properties': [{'property': 'fno', 'type': 'INTEGER'}, {'property': 'name', 'type': 'STRING'}], 'labels': 'IPR'}, {'properties': [{'property': 'name', 'type': 'STRING'}, {'property': 'image_url', 'type': 'LIST'}, {'property': 'CorrectiveActivities', 'type': 'LIST'}, {'property': 'fno', 'type': 'INTEGER'}], 'labels': 'Gearbox'}, {'properties': [{'property': 'name', 'type': 'STRING'}], 'labels': 'Environment'}, {'properties': [{'property': 'fno', 'type': 'INTEGER'}, {'property': 'name', 'type': 'STRING'}], 'labels': 'Pitch'}, {'properties': [{'property': 'name', 'type': 'STRING'}], 'labels': 'PitchSystem'}, {'properties': [{'property': 'fno', 'type': 'INTEGER'}, {'property': 'name', 'type': 'STRING'}], 'labels': 'WindAlr'}, {'properties': [{'property': 'name', 'type': 'STRING'}, {'property': 'contents', 'type': 'STRING'}], 'labels': 'Corrective'}, {'properties': [{'property': 'name', 'type': 'STRING'}], 'labels': 'ParkBrake'}, {'properties': [{'property': 'name', 'type': 'STRING'}], 'labels': 'MainShaft'}, {'properties': [{'property': 'name', 'type': 'STRING'}, {'property': 'PreventiveActivities', 'type': 'LIST'}, {'property': 'PredictiveActivities', 'type': 'LIST'}], 'labels': 'Converter'}, {'properties': [{'property': 'fno', 'type': 'INTEGER'}, {'property': 'name', 'type': 'STRING'}], 'labels': 'HydraulicSys'}, {'properties': [{'property': 'image_url', 'type': 'LIST'}, {'property': 'CorrectiveActivities', 'type': 'LIST'}, {'property': 'name', 'type': 'STRING'}], 'labels': 'FCS'}, {'properties': [{'property': 'fno', 'type': 'INTEGER'}, {'property': 'name', 'type': 'STRING'}], 'labels': 'NoFault'}, {'properties': [{'property': 'name', 'type': 'STRING'}, {'property': 'unit', 'type': 'STRING'}, {'property': 'feature_no', 'type': 'INTEGER'}, {'property': 'description', 'type': 'STRING'}], 'labels': 'Feature'}, {'properties': [{'property': 'name', 'type': 'STRING'}, {'property': 'location', 'type': 'STRING'}, {'property': 'rated_power', 'type': 'STRING'}, {'property': 'type', 'type': 'STRING'}], 'labels': 'System'}, {'properties': [{'property': 'name', 'type': 'STRING'}, {'property': 'image_url', 'type': 'LIST'}, {'property': 'CorrectiveActivities', 'type': 'LIST'}], 'labels': 'YawSystem'}, {'properties': [{'property': 'name', 'type': 'STRING'}, {'property': 'image_url', 'type': 'LIST'}, {'property': 'CorrectiveActivities', 'type': 'LIST'}], 'labels': 'HydraulicSystem'}, {'properties': [{'property': 'PreventiveActivities', 'type': 'LIST'}, {'property': 'name', 'type': 'STRING'}], 'labels': 'DriveTrain'}, {'properties': [{'property': 'name', 'type': 'STRING'}, {'property': 'contents', 'type': 'STRING'}], 'labels': 'FunctionalGroup'}, {'properties': [{'property': 'name', 'type': 'STRING'}], 'labels': 'Generator'}, {'properties': [{'property': 'Sampling', 'type': 'LIST'}, {'property': 'Retightening', 'type': 'LIST'}, {'property': 'PlasticsOrDegradedGums', 'type': 'LIST'}, {'property': 'Corrosion', 'type': 'LIST'}, {'property': 'VisualInspections', 'type': 'LIST'}, {'property': 'LostScuffsOrGaps', 'type': 'LIST'}, {'property': 'FatLiqours', 'type': 'LIST'}, {'property': 'OilChanges', 'type': 'LIST'}, {'property': 'FunctionalChecks', 'type': 'LIST'}, {'property': 'SettingPressures', 'type': 'LIST'}, {'property': 'Filters', 'type': 'LIST'}, {'property': 'DriveTrainActivities', 'type': 'LIST'}, {'property': 'Cleaning', 'type': 'LIST'}, {'property': 'CheckWearSlackLineups', 'type': 'LIST'}, {'property': 'ImpParameters', 'type': 'LIST'}, {'property': 'contents', 'type': 'STRING'}, {'property': 'Lineups', 'type': 'LIST'}, {'property': 'name', 'type': 'STRING'}], 'labels': 'Preventive'}, {'properties': [{'property': 'name', 'type': 'STRING'}, {'property': 'fno', 'type': 'INTEGER'}], 'labels': 'PPD'}, {'properties': [{'property': 'fno', 'type': 'INTEGER'}, {'property': 'name', 'type': 'STRING'}], 'labels': 'Yaw'}]\n",
      "            Relationship properties are the following:\n",
      "            []\n",
      "            The relationships are the following:\n",
      "            ['(:Alarm)-[:AFFECTS]->(:PCS)', '(:Alarm)-[:AFFECTS]->(:PitchSystem)', '(:Alarm)-[:AFFECTS]->(:Pitch)', '(:Alarm)-[:AFFECTS]->(:PitchEFCMon)', '(:Alarm)-[:AFFECTS]->(:PitchInterfaceAlarm)', '(:Alarm)-[:AFFECTS]->(:Yaw)', '(:Alarm)-[:AFFECTS]->(:YawSystem)', '(:Alarm)-[:AFFECTS]->(:YawBrake)', '(:Alarm)-[:AFFECTS]->(:HydraulicSystem)', '(:Alarm)-[:AFFECTS]->(:HydraulicSys)', '(:Alarm)-[:AFFECTS]->(:IPR)', '(:Alarm)-[:AFFECTS]->(:WindAlr)', '(:Alarm)-[:AFFECTS]->(:System)', '(:Alarm)-[:AFFECTS]->(:NoFault)', '(:Alarm)-[:AFFECTS]->(:Test)', '(:YawBrake)-[:RELATESTO]->(:YawSystem)', '(:Predictive)-[:ACTION]->(:PredAct)', '(:CorrAct)-[:FOR]->(:FaultEvent)', '(:CorrAct)-[:FOR]->(:Transformer)', '(:Test)-[:RELATESTO]->(:ESC)', '(:PredAct)-[:FOR]->(:Converter)', '(:SCADA)-[:HAS]->(:FunctionalGroup)', '(:SCADA)-[:CONTAINS]->(:SCADA)', '(:SCADA)-[:CONTAINS]->(:Feature)', '(:SCADA)-[:IS]->(:Feature)', '(:FaultEvent)-[:AFFECTS]->(:Converter)', '(:FaultEvent)-[:AFFECTS]->(:Transformer)', '(:FaultEvent)-[:AFFECTS]->(:Generator)', '(:FaultEvent)-[:AFFECTS]->(:Gearbox)', '(:FaultEvent)-[:AFFECTS]->(:YawSystem)', '(:FaultEvent)-[:AFFECTS]->(:Pitch)', '(:FaultEvent)-[:AFFECTS]->(:ESC)', '(:FaultEvent)-[:AFFECTS]->(:HydraulicSystem)', '(:FaultEvent)-[:RELATESTO]->(:Alarm)', '(:PitchInterfaceAlarm)-[:RELATESTO]->(:PitchSystem)', '(:FaultEvents)-[:TYPE]->(:FaultEvent)', '(:PCS)-[:RELATESTO]->(:PowerCabinet)', '(:PowerCabinet)-[:CONSISTSOF]->(:Transformer)', '(:PitchEFCMon)-[:RELATESTO]->(:PitchSystem)', '(:MaintenanceAction)-[:TYPE]->(:Preventive)', '(:MaintenanceAction)-[:TYPE]->(:Corrective)', '(:MaintenanceAction)-[:TYPE]->(:Predictive)', '(:PrevAct)-[:FOR]->(:System)', '(:PrevAct)-[:FOR]->(:DriveTrain)', '(:PrevAct)-[:FOR]->(:YawSystem)', '(:PrevAct)-[:FOR]->(:ParkBrake)', '(:PrevAct)-[:FOR]->(:ESC)', '(:PrevAct)-[:FOR]->(:HydraulicSystem)', '(:PrevAct)-[:FOR]->(:FCS)', '(:PrevAct)-[:FOR]->(:Generator)', '(:PrevAct)-[:FOR]->(:MainShaft)', '(:PrevAct)-[:FOR]->(:PitchSystem)', '(:PrevAct)-[:FOR]->(:Converter)', '(:PrevAct)-[:FOR]->(:PowerCabinet)', '(:IPR)-[:RELATESTO]->(:ESC)', '(:Environment)-[:AFFECTS]->(:FaultEvent)', '(:Pitch)-[:RELATESTO]->(:PitchSystem)', '(:PitchSystem)-[:CONSISTSOF]->(:Pitch)', '(:PitchSystem)-[:CONSISTSOF]->(:PitchInterfaceAlarm)', '(:PitchSystem)-[:CONSISTSOF]->(:PitchEFCMon)', '(:WindAlr)-[:RELATESTO]->(:ESC)', '(:Corrective)-[:ACTION]->(:CorrAct)', '(:Feature)-[:IS]->(:Feature)', '(:Feature)-[:RELATESTO]->(:FaultEvent)', '(:Feature)-[:AFFECTS]->(:Transformer)', '(:System)-[:CONTAINS]->(:Converter)', '(:System)-[:CONTAINS]->(:ParkBrake)', '(:System)-[:CONTAINS]->(:ESC)', '(:System)-[:CONTAINS]->(:YawSystem)', '(:System)-[:CONTAINS]->(:FCS)', '(:System)-[:CONTAINS]->(:PitchSystem)', '(:System)-[:CONTAINS]->(:HydraulicSystem)', '(:System)-[:CONTAINS]->(:PowerCabinet)', '(:System)-[:CONTAINS]->(:Transformer)', '(:System)-[:CONTAINS]->(:DriveTrain)', '(:System)-[:CONTAINS]->(:Generator)', '(:DriveTrain)-[:CONSISTSOF]->(:Gearbox)', '(:DriveTrain)-[:CONSISTSOF]->(:MainShaft)', '(:DriveTrain)-[:CONSISTSOF]->(:Generator)', '(:FunctionalGroup)-[:TYPE]->(:IPR)', '(:FunctionalGroup)-[:TYPE]->(:NoFault)', '(:FunctionalGroup)-[:TYPE]->(:PCS)', '(:FunctionalGroup)-[:TYPE]->(:Pitch)', '(:FunctionalGroup)-[:TYPE]->(:Gearbox)', '(:FunctionalGroup)-[:TYPE]->(:PPD)', '(:FunctionalGroup)-[:TYPE]->(:PitchEFCMon)', '(:FunctionalGroup)-[:TYPE]->(:YawBrake)', '(:FunctionalGroup)-[:TYPE]->(:HydraulicSys)', '(:FunctionalGroup)-[:TYPE]->(:WindAlr)', '(:FunctionalGroup)-[:TYPE]->(:Test)', '(:FunctionalGroup)-[:TYPE]->(:PitchInterfaceAlarm)', '(:FunctionalGroup)-[:TYPE]->(:Yaw)', '(:Preventive)-[:ACTION]->(:PrevAct)', '(:PPD)-[:RELATESTO]->(:System)', '(:Yaw)-[:RELATESTO]->(:YawSystem)']\n",
      "            \n",
      "Hint: You can use the following queries as examples:\n",
      "\n",
      "Question: What are general corrective activities for the Transformer subsystem of the wind turbine?\".\n",
      "Query: MATCH(n{name:\"\"Transformer\"\"}) RETURN n.CorrectiveActivities\n",
      "\n",
      "Question: Provide general predictive activities for transformer of wind turbines\".\n",
      "Query: MATCH(n{name:\"\"Transformer\"\"}) RETURN n.PredictiveActivities\n",
      "\n",
      "Question: Show all details of fault events related to wind turbine Transformer subsystem Tests in the USA.\n",
      "Query: MATCH(n:FaultEvents)-[:TYPE]-(p)-[:AFFECTS]-(q{name:\"\"Transformer\"\"}) RETURN p\n",
      "\n",
      "Question: Show all detail of fault event relating to Wind turbine Transformer subsystem.\n",
      "Query: MATCH(n:FaultEvents)-[:TYPE]-(p)-[:AFFECTS]-(q{name:\"\"Transformer\"\"}) RETURN p\n",
      "\n",
      "Note: Do not include any explanations or apologies in your responses.\n",
      "Do not respond to any questions that might ask anything else than for you to construct a Cypher statement.\n",
      "Do not include any text except the generated Cypher statement.\n",
      "\n",
      "The question is:\n",
      "Show all details of fault events relating to wind turbine transformer subsystem.\n"
     ]
    }
   ],
   "source": [
    "query = 'Show all details of fault events relating to wind turbine transformer subsystem.'\n",
    "prompt = neo4j.build_prompt(query)\n",
    "print(prompt)"
   ]
  },
  {
   "cell_type": "code",
   "execution_count": 7,
   "metadata": {},
   "outputs": [
    {
     "data": {
      "text/plain": [
       "'MATCH (:FaultEvents)-[:TYPE]->(fe:FaultEvent)-[:AFFECTS]->(:Transformer) RETURN fe\\n'"
      ]
     },
     "execution_count": 7,
     "metadata": {},
     "output_type": "execute_result"
    }
   ],
   "source": [
    "cypher_query=clean_generation(llm.generate(prompt))\n",
    "cypher_query"
   ]
  },
  {
   "cell_type": "code",
   "execution_count": 8,
   "metadata": {},
   "outputs": [
    {
     "data": {
      "text/plain": [
       "[{'fe': {'number': 52,\n",
       "   'details': 'Analogue module failure. Error in analog card.'}},\n",
       " {'fe': {'number': 51,\n",
       "   'details': 'Temperature measurement module failure. Error in Temperature card (RTD)'}},\n",
       " {'fe': {'number': 54, 'details': 'UPS failure'}},\n",
       " {'fe': {'number': 53, 'details': 'Communication error'}},\n",
       " {'fe': {'number': 50,\n",
       "   'details': 'PLC Module Failure. Peripheral Module Failure'}},\n",
       " {'fe': {'number': 49,\n",
       "   'details': 'Circuit Breaker Not Ok. Any thermal fuse signal is deactivated for more than 5s.'}},\n",
       " {'fe': {'number': 48,\n",
       "   'details': 'Transformer fan circuit breaker. The thermal fuse of the trafonsmer fan is deactivated.'}},\n",
       " {'fe': {'number': 47,\n",
       "   'details': 'Turbine does not couple. The stator contact input is not received after requesting\\nconnection.'}}]"
      ]
     },
     "execution_count": 8,
     "metadata": {},
     "output_type": "execute_result"
    }
   ],
   "source": [
    "neo4j.execute(cypher_query)"
   ]
  },
  {
   "cell_type": "code",
   "execution_count": 9,
   "metadata": {},
   "outputs": [
    {
     "name": "stdout",
     "output_type": "stream",
     "text": [
      "{code: Neo.ClientError.Statement.SyntaxError} {message: Invalid input 'MAT': expected\n",
      "  \"ALTER\"\n",
      "  \"CALL\"\n",
      "  \"CREATE\"\n",
      "  \"DEALLOCATE\"\n",
      "  \"DELETE\"\n",
      "  \"DENY\"\n",
      "  \"DETACH\"\n",
      "  \"DROP\"\n",
      "  \"DRYRUN\"\n",
      "  \"ENABLE\"\n",
      "  \"FOREACH\"\n",
      "  \"GRANT\"\n",
      "  \"LOAD\"\n",
      "  \"MATCH\"\n",
      "  \"MERGE\"\n",
      "  \"OPTIONAL\"\n",
      "  \"REALLOCATE\"\n",
      "  \"REMOVE\"\n",
      "  \"RENAME\"\n",
      "  \"RETURN\"\n",
      "  \"REVOKE\"\n",
      "  \"SET\"\n",
      "  \"SHOW\"\n",
      "  \"START\"\n",
      "  \"STOP\"\n",
      "  \"TERMINATE\"\n",
      "  \"UNWIND\"\n",
      "  \"USE\"\n",
      "  \"USING\"\n",
      "  \"WITH\" (line 1, column 1 (offset: 0))\n",
      "\"MAT (p:Person {name: \"Tom Hanks\"})-[:ACTED_IN]->(m:Movie)\"\n",
      " ^}\n"
     ]
    }
   ],
   "source": [
    "query = 'MATCH (p:Person {name: \"Tom Hanks\"})-[:ACTED_IN]->(m:Movie)\\nRETURN COUNT(m) AS NumberOfMoviesTomHanksActedIn\\n'\n",
    "try:\n",
    "    result = neo4j.execute(query)\n",
    "except Exception as e:\n",
    "    print(e)\n",
    "    \n"
   ]
  },
  {
   "cell_type": "code",
   "execution_count": 16,
   "metadata": {},
   "outputs": [
    {
     "name": "stdout",
     "output_type": "stream",
     "text": [
      "{'Neo4j': 'This database contains information about movies and actors', 'MongoDB': 'This database contains information sales of books', 'MySQL': 'This database contains information about the weather'}\n"
     ]
    }
   ],
   "source": [
    "available_databases = {\"Neo4j\": \"This database contains information about movies and actors\",\n",
    "                       \"MongoDB\": \"This database contains information sales of books\",\n",
    "                        \"MySQL\" : \"This database contains information about the weather\"}\n",
    "\n",
    "print(available_databases)"
   ]
  },
  {
   "cell_type": "code",
   "execution_count": 17,
   "metadata": {},
   "outputs": [
    {
     "name": "stdout",
     "output_type": "stream",
     "text": [
      "{'Database': ['Neo4j', 'None'], 'can_answer_from_history': True}\n"
     ]
    }
   ],
   "source": [
    "history = ChatHistory()\n",
    "history.add_system_message( \"Please output valid json\")\n",
    "history.add_user_message(\"In how many movies did tom hanks play as a actor\")\n",
    "history.add_assistant_message(\"Tom Hanks played in 87 movies as an actor\")\n",
    "history.add_user_message(\"Dis tom hanks paly in the Movie Forrest Gump as an actor\")\n",
    "history.add_assistant_message(\"Yes, Tom Hanks played in the Movie Forrest Gump as an actor\")\n",
    "history.add_user_message(f\"\"\"Decide if you can asnwer the question only with the information of the chat history and if not which Database should be used to answer the question.\n",
    "You have the follwing Databases available:\n",
    "{available_databases}\n",
    "The question is: In how many movies did tom hanks play as a actor and did he paly in the movie forest gump?\n",
    "The current chat history is:\n",
    "{history.format_for_model()}\n",
    "Follow this example for the output:\n",
    "{{\n",
    "  Database: List[Literal[\"Neo4j\", \"MongoDB\", \"MySQL\", \"None\"]],\n",
    "  can_answer_from_history: bool,                                 \n",
    "}}\"\"\"\n",
    "\n",
    ")\n",
    "decision_model = OpenAI(api_key=os.environ.get(\"OPENAI_KEY\"))\n",
    "\n",
    "chat_completion, *_ = decision_model.chat.completions.create(\n",
    "messages= history.format_for_model(),\n",
    "model=\"gpt-4-1106-preview\",\n",
    "response_format={\"type\": \"json_object\"},\n",
    "temperature=0.2\n",
    ").choices\n",
    "\n",
    "content = chat_completion.message.content\n",
    "reply = json.loads(content)\n",
    "print(reply)"
   ]
  }
 ],
 "metadata": {
  "kernelspec": {
   "display_name": "Python 3",
   "language": "python",
   "name": "python3"
  },
  "language_info": {
   "codemirror_mode": {
    "name": "ipython",
    "version": 3
   },
   "file_extension": ".py",
   "mimetype": "text/x-python",
   "name": "python",
   "nbconvert_exporter": "python",
   "pygments_lexer": "ipython3",
   "version": "3.10.6"
  }
 },
 "nbformat": 4,
 "nbformat_minor": 2
}
